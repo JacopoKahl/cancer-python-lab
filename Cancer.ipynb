{
  "nbformat": 4,
  "nbformat_minor": 0,
  "metadata": {
    "colab": {
      "name": "Cancer.ipynb",
      "provenance": [],
      "collapsed_sections": [],
      "toc_visible": true,
      "authorship_tag": "ABX9TyPCpo3O7jpXHSGhwjk7jquk",
      "include_colab_link": true
    },
    "kernelspec": {
      "name": "python3",
      "display_name": "Python 3"
    },
    "accelerator": "GPU"
  },
  "cells": [
    {
      "cell_type": "markdown",
      "metadata": {
        "id": "view-in-github",
        "colab_type": "text"
      },
      "source": [
        "<a href=\"https://colab.research.google.com/github/JacopoKahl/cancer-python-lab/blob/master/Cancer.ipynb\" target=\"_parent\"><img src=\"https://colab.research.google.com/assets/colab-badge.svg\" alt=\"Open In Colab\"/></a>"
      ]
    },
    {
      "cell_type": "markdown",
      "metadata": {
        "id": "mhkdlVrRBACX",
        "colab_type": "text"
      },
      "source": [
        "# Cancer classification task"
      ]
    },
    {
      "cell_type": "markdown",
      "metadata": {
        "id": "MPypw4WABHrN",
        "colab_type": "text"
      },
      "source": [
        "Import libraries and functions for the script"
      ]
    },
    {
      "cell_type": "code",
      "metadata": {
        "id": "_k5QFE4WBK8A",
        "colab_type": "code",
        "outputId": "7bfe7a5d-a23e-4f40-d4ca-45ca398bc13b",
        "colab": {
          "base_uri": "https://localhost:8080/",
          "height": 34
        }
      },
      "source": [
        "import pandas as pd #pd will be the shorthand for pandas\n",
        "\n",
        "from keras.models import Sequential #Import the sequential model for Neural Networks\n",
        "from keras.layers import Dense #Import the Dense type of layer\n",
        "\n",
        "import matplotlib.pyplot as plt #import mat plotting library for charts and pictures\n",
        "\n",
        "import random #import the random function\n",
        "random.seed(0) #Set seed to the random function so that every call to random will produce the same sequence of \"pseudo-random\" numbers\n",
        "\n",
        "print (random.randint(0,10)) #the function produces the same number each time the cell is running"
      ],
      "execution_count": 34,
      "outputs": [
        {
          "output_type": "stream",
          "text": [
            "6\n"
          ],
          "name": "stdout"
        }
      ]
    },
    {
      "cell_type": "code",
      "metadata": {
        "id": "Ig3_HboVDkGq",
        "colab_type": "code",
        "colab": {}
      },
      "source": [
        ""
      ],
      "execution_count": 0,
      "outputs": []
    },
    {
      "cell_type": "markdown",
      "metadata": {
        "id": "AM3KVPKEEFMX",
        "colab_type": "text"
      },
      "source": [
        "**Load Dataset**"
      ]
    },
    {
      "cell_type": "code",
      "metadata": {
        "id": "Wv8CXTXaEKPY",
        "colab_type": "code",
        "colab": {}
      },
      "source": [
        "X_train = pd.read_csv(\"xtrain.csv\", header=None) #Load input data (no labels are available for columns)\n",
        "Y_train = pd.read_csv(\"ytrain.csv\", header=None) #Load input data (no labels are available for rows)\n",
        "\n",
        "X_test = pd.read_csv(\"xtest.csv\", header=None) #Load input data (no labels are available for columns)\n",
        "Y_test = pd.read_csv(\"ytest.csv\", header=None) #Load input data (no labels are available for rows)"
      ],
      "execution_count": 0,
      "outputs": []
    },
    {
      "cell_type": "code",
      "metadata": {
        "id": "JCNxlj72GbIP",
        "colab_type": "code",
        "colab": {}
      },
      "source": [
        ""
      ],
      "execution_count": 0,
      "outputs": []
    },
    {
      "cell_type": "markdown",
      "metadata": {
        "id": "wt2eT9oJGbq-",
        "colab_type": "text"
      },
      "source": [
        "Let's inspect the data"
      ]
    },
    {
      "cell_type": "code",
      "metadata": {
        "id": "a9eO5qzyGd_m",
        "colab_type": "code",
        "outputId": "f26e6483-f6f6-463d-fc70-e06d4aac076e",
        "colab": {
          "base_uri": "https://localhost:8080/",
          "height": 34
        }
      },
      "source": [
        "X_train.head() #head() show the first 5 rows of the dataframe\n",
        "\n",
        "X_train.shape  #returns the shape (dimensions) of the dataframe (in this case the input data)"
      ],
      "execution_count": 36,
      "outputs": [
        {
          "output_type": "execute_result",
          "data": {
            "text/plain": [
              "(455, 30)"
            ]
          },
          "metadata": {
            "tags": []
          },
          "execution_count": 36
        }
      ]
    },
    {
      "cell_type": "code",
      "metadata": {
        "id": "dL7h7emdG6Ck",
        "colab_type": "code",
        "colab": {}
      },
      "source": [
        ""
      ],
      "execution_count": 0,
      "outputs": []
    },
    {
      "cell_type": "markdown",
      "metadata": {
        "id": "M-u4R7i9JBjT",
        "colab_type": "text"
      },
      "source": [
        "**Create NN classifier model**"
      ]
    },
    {
      "cell_type": "code",
      "metadata": {
        "id": "5BI5oaQnJHUZ",
        "colab_type": "code",
        "colab": {}
      },
      "source": [
        "classifier = Sequential() #our classifier is an instance of the Sequential class\n",
        "\n",
        "classifier.add(Dense(units = 16, activation= 'relu', input_dim= 30)) #add the first (left most) of the net\n",
        "classifier.add(Dense(units = 8, activation= 'relu'))  #layer with 8 neurons and relu activation\n",
        "classifier.add(Dense(units = 6, activation= 'relu'))  #layer with 6 neurons and relu activation\n",
        "classifier.add(Dense(units = 1, activation= 'sigmoid'))  #output layer with 1 neuron and sigmoid activation"
      ],
      "execution_count": 0,
      "outputs": []
    },
    {
      "cell_type": "code",
      "metadata": {
        "id": "RcUPwyrbLnQP",
        "colab_type": "code",
        "outputId": "6788769a-c30b-4557-9837-1ba8786a78d5",
        "colab": {
          "base_uri": "https://localhost:8080/",
          "height": 289
        }
      },
      "source": [
        "classifier.summary()"
      ],
      "execution_count": 38,
      "outputs": [
        {
          "output_type": "stream",
          "text": [
            "Model: \"sequential_4\"\n",
            "_________________________________________________________________\n",
            "Layer (type)                 Output Shape              Param #   \n",
            "=================================================================\n",
            "dense_13 (Dense)             (None, 16)                496       \n",
            "_________________________________________________________________\n",
            "dense_14 (Dense)             (None, 8)                 136       \n",
            "_________________________________________________________________\n",
            "dense_15 (Dense)             (None, 6)                 54        \n",
            "_________________________________________________________________\n",
            "dense_16 (Dense)             (None, 1)                 7         \n",
            "=================================================================\n",
            "Total params: 693\n",
            "Trainable params: 693\n",
            "Non-trainable params: 0\n",
            "_________________________________________________________________\n"
          ],
          "name": "stdout"
        }
      ]
    },
    {
      "cell_type": "markdown",
      "metadata": {
        "id": "dSRk32ci31l2",
        "colab_type": "text"
      },
      "source": [
        "**Compilation of the model**\n",
        "\n",
        "After the network structure, the optimezer and the loss function need to be defined through the compile function."
      ]
    },
    {
      "cell_type": "code",
      "metadata": {
        "id": "8rqZJNeH2NCZ",
        "colab_type": "code",
        "colab": {}
      },
      "source": [
        "classifier.compile(optimizer='rmsprop', loss='binary_crossentropy', metrics=['accuracy'])"
      ],
      "execution_count": 0,
      "outputs": []
    },
    {
      "cell_type": "markdown",
      "metadata": {
        "id": "Bte-OZY_4QtQ",
        "colab_type": "text"
      },
      "source": [
        "**Training phase**\n",
        "\n",
        "The model is trained on the dataset that is (i-th sample, i-th output label) couples.\n",
        "\n",
        "Training logs are saved into a History object"
      ]
    },
    {
      "cell_type": "code",
      "metadata": {
        "id": "2GbNWOFj4lsa",
        "colab_type": "code",
        "outputId": "0be1fb16-c8f7-4a4b-ebc2-4e05e8e82b13",
        "colab": {
          "base_uri": "https://localhost:8080/",
          "height": 1000
        }
      },
      "source": [
        " hist = classifier.fit(X_train, Y_train, batch_size=8, epochs=30)"
      ],
      "execution_count": 40,
      "outputs": [
        {
          "output_type": "stream",
          "text": [
            "Epoch 1/30\n",
            "455/455 [==============================] - 0s 955us/step - loss: 0.6593 - acc: 0.6066\n",
            "Epoch 2/30\n",
            "455/455 [==============================] - 0s 375us/step - loss: 0.4442 - acc: 0.9275\n",
            "Epoch 3/30\n",
            "455/455 [==============================] - 0s 396us/step - loss: 0.2506 - acc: 0.9626\n",
            "Epoch 4/30\n",
            "455/455 [==============================] - 0s 397us/step - loss: 0.1425 - acc: 0.9714\n",
            "Epoch 5/30\n",
            "455/455 [==============================] - 0s 422us/step - loss: 0.0974 - acc: 0.9758\n",
            "Epoch 6/30\n",
            "455/455 [==============================] - 0s 439us/step - loss: 0.0813 - acc: 0.9802\n",
            "Epoch 7/30\n",
            "455/455 [==============================] - 0s 380us/step - loss: 0.0719 - acc: 0.9824\n",
            "Epoch 8/30\n",
            "455/455 [==============================] - 0s 395us/step - loss: 0.0659 - acc: 0.9824\n",
            "Epoch 9/30\n",
            "455/455 [==============================] - 0s 416us/step - loss: 0.0607 - acc: 0.9846\n",
            "Epoch 10/30\n",
            "455/455 [==============================] - 0s 400us/step - loss: 0.0593 - acc: 0.9846\n",
            "Epoch 11/30\n",
            "455/455 [==============================] - 0s 466us/step - loss: 0.0552 - acc: 0.9868\n",
            "Epoch 12/30\n",
            "455/455 [==============================] - 0s 398us/step - loss: 0.0528 - acc: 0.9868\n",
            "Epoch 13/30\n",
            "455/455 [==============================] - 0s 368us/step - loss: 0.0499 - acc: 0.9868\n",
            "Epoch 14/30\n",
            "455/455 [==============================] - 0s 457us/step - loss: 0.0474 - acc: 0.9890\n",
            "Epoch 15/30\n",
            "455/455 [==============================] - 0s 516us/step - loss: 0.0460 - acc: 0.9868\n",
            "Epoch 16/30\n",
            "455/455 [==============================] - 0s 514us/step - loss: 0.0447 - acc: 0.9890\n",
            "Epoch 17/30\n",
            "455/455 [==============================] - 0s 498us/step - loss: 0.0434 - acc: 0.9890\n",
            "Epoch 18/30\n",
            "455/455 [==============================] - 0s 386us/step - loss: 0.0410 - acc: 0.9890\n",
            "Epoch 19/30\n",
            "455/455 [==============================] - 0s 415us/step - loss: 0.0410 - acc: 0.9890\n",
            "Epoch 20/30\n",
            "455/455 [==============================] - 0s 369us/step - loss: 0.0396 - acc: 0.9890\n",
            "Epoch 21/30\n",
            "455/455 [==============================] - 0s 392us/step - loss: 0.0379 - acc: 0.9890\n",
            "Epoch 22/30\n",
            "455/455 [==============================] - 0s 489us/step - loss: 0.0365 - acc: 0.9890\n",
            "Epoch 23/30\n",
            "455/455 [==============================] - 0s 407us/step - loss: 0.0359 - acc: 0.9912\n",
            "Epoch 24/30\n",
            "455/455 [==============================] - 0s 373us/step - loss: 0.0356 - acc: 0.9912\n",
            "Epoch 25/30\n",
            "455/455 [==============================] - 0s 389us/step - loss: 0.0347 - acc: 0.9912\n",
            "Epoch 26/30\n",
            "455/455 [==============================] - 0s 390us/step - loss: 0.0335 - acc: 0.9912\n",
            "Epoch 27/30\n",
            "455/455 [==============================] - 0s 424us/step - loss: 0.0317 - acc: 0.9912\n",
            "Epoch 28/30\n",
            "455/455 [==============================] - 0s 462us/step - loss: 0.0310 - acc: 0.9912\n",
            "Epoch 29/30\n",
            "455/455 [==============================] - 0s 372us/step - loss: 0.0312 - acc: 0.9912\n",
            "Epoch 30/30\n",
            "455/455 [==============================] - 0s 386us/step - loss: 0.0300 - acc: 0.9912\n"
          ],
          "name": "stdout"
        }
      ]
    },
    {
      "cell_type": "markdown",
      "metadata": {
        "id": "-Es9S2HXI2kp",
        "colab_type": "text"
      },
      "source": [
        "Let's evaluate the network by computing predictions on the test set (X_test)"
      ]
    },
    {
      "cell_type": "code",
      "metadata": {
        "id": "MoIstI7NMnko",
        "colab_type": "code",
        "colab": {}
      },
      "source": [
        "Y_pred= classifier.predict(X_test)"
      ],
      "execution_count": 0,
      "outputs": []
    },
    {
      "cell_type": "code",
      "metadata": {
        "id": "NHfuc5uINE1w",
        "colab_type": "code",
        "colab": {}
      },
      "source": [
        "Y_pred = [1 if y>=0.5 else 0 for y in Y_pred]"
      ],
      "execution_count": 0,
      "outputs": []
    },
    {
      "cell_type": "code",
      "metadata": {
        "id": "NEvTxj9bs3gt",
        "colab_type": "code",
        "colab": {}
      },
      "source": [
        "#Y_pred"
      ],
      "execution_count": 0,
      "outputs": []
    },
    {
      "cell_type": "code",
      "metadata": {
        "id": "TFz3_fgls72B",
        "colab_type": "code",
        "outputId": "20d4abc5-421f-4c83-dd26-20da06aebc04",
        "colab": {
          "base_uri": "https://localhost:8080/",
          "height": 102
        }
      },
      "source": [
        "total=0\n",
        "correct=0\n",
        "wrong=0\n",
        "\n",
        "print ('Dimension of Test input set:', len(X_test))\n",
        "print ('Dimension of Test output set:', len(Y_pred))\n",
        "#len(Y_pred)\n",
        "\n",
        "#for i in range (10):\n",
        " # print(i)\n",
        "\n",
        "for i in range(len(Y_pred)):\n",
        "  total=total+1\n",
        "  if (Y_test.at[i,0] == Y_pred[i]):\n",
        "    correct=correct+1\n",
        "  else:\n",
        "    wrong=wrong+1\n",
        "\n",
        "print('Total: ', total)\n",
        "print('Correct: ', correct)\n",
        "print('Wrong: ', wrong)"
      ],
      "execution_count": 44,
      "outputs": [
        {
          "output_type": "stream",
          "text": [
            "Dimension of Test input set: 114\n",
            "Dimension of Test output set: 114\n",
            "Total:  114\n",
            "Correct:  110\n",
            "Wrong:  4\n"
          ],
          "name": "stdout"
        }
      ]
    },
    {
      "cell_type": "markdown",
      "metadata": {
        "id": "05d6mTrpVox1",
        "colab_type": "text"
      },
      "source": [
        "Plot training History\n",
        "**bold text**\n",
        "\n"
      ]
    },
    {
      "cell_type": "code",
      "metadata": {
        "id": "do3tM96aVlU4",
        "colab_type": "code",
        "colab": {
          "base_uri": "https://localhost:8080/",
          "height": 312
        },
        "outputId": "d0f9c0ea-388e-4430-c403-29907eef042d"
      },
      "source": [
        "plt.plot(hist.history['acc']) #plot accuracy data \n",
        "plt.title('Model accuracy')\n",
        "plt.ylabel('accuracy')\n",
        "plt.xlabel('epochs')"
      ],
      "execution_count": 50,
      "outputs": [
        {
          "output_type": "execute_result",
          "data": {
            "text/plain": [
              "Text(0.5, 0, 'epochs')"
            ]
          },
          "metadata": {
            "tags": []
          },
          "execution_count": 50
        },
        {
          "output_type": "display_data",
          "data": {
            "image/png": "[encoded data removed]",
            "text/plain": [
              "<Figure size 432x288 with 1 Axes>"
            ]
          },
          "metadata": {
            "tags": []
          }
        }
      ]
    }
  ]
}