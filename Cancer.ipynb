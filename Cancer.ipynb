{
  "nbformat": 4,
  "nbformat_minor": 0,
  "metadata": {
    "colab": {
      "name": "Cancer.ipynb",
      "provenance": [],
      "collapsed_sections": [],
      "toc_visible": true,
      "authorship_tag": "ABX9TyOyvT1DahzJkSJrFyiNUgZN",
      "include_colab_link": true
    },
    "kernelspec": {
      "name": "python3",
      "display_name": "Python 3"
    },
    "accelerator": "GPU"
  },
  "cells": [
    {
      "cell_type": "markdown",
      "metadata": {
        "id": "view-in-github",
        "colab_type": "text"
      },
      "source": [
        "<a href=\"https://colab.research.google.com/github/JacopoKahl/cancer-python-lab/blob/master/Cancer.ipynb\" target=\"_parent\"><img src=\"https://colab.research.google.com/assets/colab-badge.svg\" alt=\"Open In Colab\"/></a>"
      ]
    },
    {
      "cell_type": "markdown",
      "metadata": {
        "id": "mhkdlVrRBACX",
        "colab_type": "text"
      },
      "source": [
        "# Cancer classification task"
      ]
    },
    {
      "cell_type": "markdown",
      "metadata": {
        "id": "MPypw4WABHrN",
        "colab_type": "text"
      },
      "source": [
        "Import libraries and functions for the script"
      ]
    },
    {
      "cell_type": "code",
      "metadata": {
        "id": "_k5QFE4WBK8A",
        "colab_type": "code",
        "outputId": "44e47204-771e-4874-8fa3-c9386af64ea4",
        "colab": {
          "base_uri": "https://localhost:8080/",
          "height": 80
        }
      },
      "source": [
        "import pandas as pd #pd will be the shorthand for pandas\n",
        "\n",
        "from keras.models import Sequential #Import the sequential model for Neural Networks\n",
        "from keras.layers import Dense #Import the Dense type of layer\n",
        "\n",
        "import random\n",
        "random.seed(0)\n"
      ],
      "execution_count": 1,
      "outputs": [
        {
          "output_type": "stream",
          "text": [
            "Using TensorFlow backend.\n"
          ],
          "name": "stderr"
        },
        {
          "output_type": "display_data",
          "data": {
            "text/html": [
              "<p style=\"color: red;\">\n",
              "The default version of TensorFlow in Colab will soon switch to TensorFlow 2.x.<br>\n",
              "We recommend you <a href=\"https://www.tensorflow.org/guide/migrate\" target=\"_blank\">upgrade</a> now \n",
              "or ensure your notebook will continue to use TensorFlow 1.x via the <code>%tensorflow_version 1.x</code> magic:\n",
              "<a href=\"https://colab.research.google.com/notebooks/tensorflow_version.ipynb\" target=\"_blank\">more info</a>.</p>\n"
            ],
            "text/plain": [
              "<IPython.core.display.HTML object>"
            ]
          },
          "metadata": {
            "tags": []
          }
        }
      ]
    },
    {
      "cell_type": "code",
      "metadata": {
        "id": "Ig3_HboVDkGq",
        "colab_type": "code",
        "colab": {}
      },
      "source": [
        ""
      ],
      "execution_count": 0,
      "outputs": []
    },
    {
      "cell_type": "markdown",
      "metadata": {
        "id": "AM3KVPKEEFMX",
        "colab_type": "text"
      },
      "source": [
        "**Load Dataset**"
      ]
    },
    {
      "cell_type": "code",
      "metadata": {
        "id": "Wv8CXTXaEKPY",
        "colab_type": "code",
        "colab": {}
      },
      "source": [
        "X_train = pd.read_csv(\"xtrain.csv\", header=None) #Load input data (no labels are available for columns)\n",
        "Y_train = pd.read_csv(\"ytrain.csv\", header=None) #Load input data (no labels are available for rows)\n",
        "\n",
        "X_test = pd.read_csv(\"xtest.csv\", header=None) #Load input data (no labels are available for columns)\n",
        "Y_test = pd.read_csv(\"ytest.csv\", header=None) #Load input data (no labels are available for rows)"
      ],
      "execution_count": 0,
      "outputs": []
    },
    {
      "cell_type": "code",
      "metadata": {
        "id": "JCNxlj72GbIP",
        "colab_type": "code",
        "colab": {}
      },
      "source": [
        ""
      ],
      "execution_count": 0,
      "outputs": []
    },
    {
      "cell_type": "markdown",
      "metadata": {
        "id": "wt2eT9oJGbq-",
        "colab_type": "text"
      },
      "source": [
        "Let's inspect the data"
      ]
    },
    {
      "cell_type": "code",
      "metadata": {
        "id": "a9eO5qzyGd_m",
        "colab_type": "code",
        "outputId": "38810a67-c994-4a3d-d896-168a9881c468",
        "colab": {
          "base_uri": "https://localhost:8080/",
          "height": 34
        }
      },
      "source": [
        "X_train.head() #head() show the first 5 rows of the dataframe\n",
        "\n",
        "X_train.shape  #returns the shape (dimensions) of the dataframe (in this case the input data)"
      ],
      "execution_count": 3,
      "outputs": [
        {
          "output_type": "execute_result",
          "data": {
            "text/plain": [
              "(455, 30)"
            ]
          },
          "metadata": {
            "tags": []
          },
          "execution_count": 3
        }
      ]
    },
    {
      "cell_type": "code",
      "metadata": {
        "id": "dL7h7emdG6Ck",
        "colab_type": "code",
        "colab": {}
      },
      "source": [
        ""
      ],
      "execution_count": 0,
      "outputs": []
    },
    {
      "cell_type": "markdown",
      "metadata": {
        "id": "M-u4R7i9JBjT",
        "colab_type": "text"
      },
      "source": [
        "**Create NN classifier model**"
      ]
    },
    {
      "cell_type": "code",
      "metadata": {
        "id": "5BI5oaQnJHUZ",
        "colab_type": "code",
        "outputId": "a9892785-267b-4940-cfa6-d0f7a27708ad",
        "colab": {
          "base_uri": "https://localhost:8080/",
          "height": 139
        }
      },
      "source": [
        "classifier = Sequential() #our classifier is an instance of the Sequential class\n",
        "\n",
        "classifier.add(Dense(units = 16, activation= 'relu', input_dim= 30)) #add the first (left most) of the net\n",
        "classifier.add(Dense(units = 8, activation= 'relu'))  #layer with 8 neurons and relu activation\n",
        "classifier.add(Dense(units = 6, activation= 'relu'))  #layer with 6 neurons and relu activation\n",
        "classifier.add(Dense(units = 1, activation= 'sigmoid'))  #output layer with 1 neuron and sigmoid activation"
      ],
      "execution_count": 4,
      "outputs": [
        {
          "output_type": "stream",
          "text": [
            "WARNING:tensorflow:From /usr/local/lib/python3.6/dist-packages/keras/backend/tensorflow_backend.py:66: The name tf.get_default_graph is deprecated. Please use tf.compat.v1.get_default_graph instead.\n",
            "\n",
            "WARNING:tensorflow:From /usr/local/lib/python3.6/dist-packages/keras/backend/tensorflow_backend.py:541: The name tf.placeholder is deprecated. Please use tf.compat.v1.placeholder instead.\n",
            "\n",
            "WARNING:tensorflow:From /usr/local/lib/python3.6/dist-packages/keras/backend/tensorflow_backend.py:4432: The name tf.random_uniform is deprecated. Please use tf.random.uniform instead.\n",
            "\n"
          ],
          "name": "stdout"
        }
      ]
    },
    {
      "cell_type": "code",
      "metadata": {
        "id": "RcUPwyrbLnQP",
        "colab_type": "code",
        "outputId": "9430b89b-17bc-497f-ddf0-f3c32c2a5f47",
        "colab": {
          "base_uri": "https://localhost:8080/",
          "height": 289
        }
      },
      "source": [
        "classifier.summary()"
      ],
      "execution_count": 5,
      "outputs": [
        {
          "output_type": "stream",
          "text": [
            "Model: \"sequential_1\"\n",
            "_________________________________________________________________\n",
            "Layer (type)                 Output Shape              Param #   \n",
            "=================================================================\n",
            "dense_1 (Dense)              (None, 16)                496       \n",
            "_________________________________________________________________\n",
            "dense_2 (Dense)              (None, 8)                 136       \n",
            "_________________________________________________________________\n",
            "dense_3 (Dense)              (None, 6)                 54        \n",
            "_________________________________________________________________\n",
            "dense_4 (Dense)              (None, 1)                 7         \n",
            "=================================================================\n",
            "Total params: 693\n",
            "Trainable params: 693\n",
            "Non-trainable params: 0\n",
            "_________________________________________________________________\n"
          ],
          "name": "stdout"
        }
      ]
    },
    {
      "cell_type": "markdown",
      "metadata": {
        "id": "dSRk32ci31l2",
        "colab_type": "text"
      },
      "source": [
        "**Compilation of the model**\n",
        "\n",
        "After the network structure, the optimezer and the loss function need to be defined through the compile function."
      ]
    },
    {
      "cell_type": "code",
      "metadata": {
        "id": "8rqZJNeH2NCZ",
        "colab_type": "code",
        "outputId": "ca6506be-25ad-4a32-e19b-de8b9c53d267",
        "colab": {
          "base_uri": "https://localhost:8080/",
          "height": 156
        }
      },
      "source": [
        "classifier.compile(optimizer='rmsprop', loss='binary_crossentropy', metrics=['accuracy'])"
      ],
      "execution_count": 6,
      "outputs": [
        {
          "output_type": "stream",
          "text": [
            "WARNING:tensorflow:From /usr/local/lib/python3.6/dist-packages/keras/optimizers.py:793: The name tf.train.Optimizer is deprecated. Please use tf.compat.v1.train.Optimizer instead.\n",
            "\n",
            "WARNING:tensorflow:From /usr/local/lib/python3.6/dist-packages/keras/backend/tensorflow_backend.py:3657: The name tf.log is deprecated. Please use tf.math.log instead.\n",
            "\n",
            "WARNING:tensorflow:From /usr/local/lib/python3.6/dist-packages/tensorflow_core/python/ops/nn_impl.py:183: where (from tensorflow.python.ops.array_ops) is deprecated and will be removed in a future version.\n",
            "Instructions for updating:\n",
            "Use tf.where in 2.0, which has the same broadcast rule as np.where\n"
          ],
          "name": "stdout"
        }
      ]
    },
    {
      "cell_type": "markdown",
      "metadata": {
        "id": "Bte-OZY_4QtQ",
        "colab_type": "text"
      },
      "source": [
        "**Training phase**\n",
        "\n",
        "The model is trained on the dataset that is (i-th sample, i-th output label) couples."
      ]
    },
    {
      "cell_type": "code",
      "metadata": {
        "id": "2GbNWOFj4lsa",
        "colab_type": "code",
        "outputId": "26653a80-d890-4132-e544-5810c575b7f4",
        "colab": {
          "base_uri": "https://localhost:8080/",
          "height": 666
        }
      },
      "source": [
        "classifier.fit(X_train, Y_train, batch_size=8, epochs=10)"
      ],
      "execution_count": 7,
      "outputs": [
        {
          "output_type": "stream",
          "text": [
            "WARNING:tensorflow:From /usr/local/lib/python3.6/dist-packages/keras/backend/tensorflow_backend.py:1033: The name tf.assign_add is deprecated. Please use tf.compat.v1.assign_add instead.\n",
            "\n",
            "WARNING:tensorflow:From /usr/local/lib/python3.6/dist-packages/keras/backend/tensorflow_backend.py:1020: The name tf.assign is deprecated. Please use tf.compat.v1.assign instead.\n",
            "\n",
            "WARNING:tensorflow:From /usr/local/lib/python3.6/dist-packages/keras/backend/tensorflow_backend.py:3005: The name tf.Session is deprecated. Please use tf.compat.v1.Session instead.\n",
            "\n",
            "Epoch 1/10\n",
            "WARNING:tensorflow:From /usr/local/lib/python3.6/dist-packages/keras/backend/tensorflow_backend.py:190: The name tf.get_default_session is deprecated. Please use tf.compat.v1.get_default_session instead.\n",
            "\n",
            "WARNING:tensorflow:From /usr/local/lib/python3.6/dist-packages/keras/backend/tensorflow_backend.py:197: The name tf.ConfigProto is deprecated. Please use tf.compat.v1.ConfigProto instead.\n",
            "\n",
            "WARNING:tensorflow:From /usr/local/lib/python3.6/dist-packages/keras/backend/tensorflow_backend.py:207: The name tf.global_variables is deprecated. Please use tf.compat.v1.global_variables instead.\n",
            "\n",
            "WARNING:tensorflow:From /usr/local/lib/python3.6/dist-packages/keras/backend/tensorflow_backend.py:216: The name tf.is_variable_initialized is deprecated. Please use tf.compat.v1.is_variable_initialized instead.\n",
            "\n",
            "WARNING:tensorflow:From /usr/local/lib/python3.6/dist-packages/keras/backend/tensorflow_backend.py:223: The name tf.variables_initializer is deprecated. Please use tf.compat.v1.variables_initializer instead.\n",
            "\n",
            "455/455 [==============================] - 10s 21ms/step - loss: 0.5548 - acc: 0.7560\n",
            "Epoch 2/10\n",
            "455/455 [==============================] - 0s 357us/step - loss: 0.3683 - acc: 0.9451\n",
            "Epoch 3/10\n",
            "455/455 [==============================] - 0s 450us/step - loss: 0.2171 - acc: 0.9648\n",
            "Epoch 4/10\n",
            "455/455 [==============================] - 0s 454us/step - loss: 0.1236 - acc: 0.9714\n",
            "Epoch 5/10\n",
            "455/455 [==============================] - 0s 464us/step - loss: 0.0861 - acc: 0.9736\n",
            "Epoch 6/10\n",
            "455/455 [==============================] - 0s 367us/step - loss: 0.0719 - acc: 0.9758\n",
            "Epoch 7/10\n",
            "455/455 [==============================] - 0s 368us/step - loss: 0.0660 - acc: 0.9802\n",
            "Epoch 8/10\n",
            "455/455 [==============================] - 0s 414us/step - loss: 0.0611 - acc: 0.9780\n",
            "Epoch 9/10\n",
            "455/455 [==============================] - 0s 491us/step - loss: 0.0582 - acc: 0.9868\n",
            "Epoch 10/10\n",
            "455/455 [==============================] - 0s 488us/step - loss: 0.0544 - acc: 0.9824\n"
          ],
          "name": "stdout"
        },
        {
          "output_type": "execute_result",
          "data": {
            "text/plain": [
              "<keras.callbacks.History at 0x7fd8e4a076a0>"
            ]
          },
          "metadata": {
            "tags": []
          },
          "execution_count": 7
        }
      ]
    },
    {
      "cell_type": "markdown",
      "metadata": {
        "id": "-Es9S2HXI2kp",
        "colab_type": "text"
      },
      "source": [
        "Let's evaluate the network by computing predictions on the test set (X_test)"
      ]
    },
    {
      "cell_type": "code",
      "metadata": {
        "id": "MoIstI7NMnko",
        "colab_type": "code",
        "colab": {}
      },
      "source": [
        "Y_pred= classifier.predict(X_test)"
      ],
      "execution_count": 0,
      "outputs": []
    },
    {
      "cell_type": "code",
      "metadata": {
        "id": "NHfuc5uINE1w",
        "colab_type": "code",
        "colab": {}
      },
      "source": [
        "Y_pred = [1 if y>=0.5 else 0 for y in Y_pred]"
      ],
      "execution_count": 0,
      "outputs": []
    },
    {
      "cell_type": "code",
      "metadata": {
        "id": "NEvTxj9bs3gt",
        "colab_type": "code",
        "colab": {}
      },
      "source": [
        "#Y_pred"
      ],
      "execution_count": 0,
      "outputs": []
    },
    {
      "cell_type": "code",
      "metadata": {
        "id": "TFz3_fgls72B",
        "colab_type": "code",
        "outputId": "ce365830-afb3-43cf-d0ae-2dea1c0c1ae7",
        "colab": {
          "base_uri": "https://localhost:8080/",
          "height": 102
        }
      },
      "source": [
        "total=0\n",
        "correct=0\n",
        "wrong=0\n",
        "\n",
        "print ('Dimension of Test input set:', len(X_test))\n",
        "print ('Dimension of Test output set:', len(Y_pred))\n",
        "#len(Y_pred)\n",
        "\n",
        "#for i in range (10):\n",
        " # print(i)\n",
        "\n",
        "for i in range(len(Y_pred)):\n",
        "  total=total+1\n",
        "  if (Y_test.at[i,0] == Y_pred[i]):\n",
        "    correct=correct+1\n",
        "  else:\n",
        "    wrong=wrong+1\n",
        "\n",
        "print('Total: ', total)\n",
        "print('Correct: ', correct)\n",
        "print('Wrong: ', wrong)"
      ],
      "execution_count": 11,
      "outputs": [
        {
          "output_type": "stream",
          "text": [
            "Dimension of Test input set: 114\n",
            "Dimension of Test output set: 114\n",
            "Total:  114\n",
            "Correct:  109\n",
            "Wrong:  5\n"
          ],
          "name": "stdout"
        }
      ]
    }
  ]
}