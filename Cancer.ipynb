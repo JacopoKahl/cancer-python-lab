{
  "nbformat": 4,
  "nbformat_minor": 0,
  "metadata": {
    "colab": {
      "name": "Cancer.ipynb",
      "provenance": [],
      "collapsed_sections": [],
      "toc_visible": true,
      "authorship_tag": "ABX9TyOsMFYP7ycP+e6VlJ5Rk6IG",
      "include_colab_link": true
    },
    "kernelspec": {
      "name": "python3",
      "display_name": "Python 3"
    },
    "accelerator": "GPU"
  },
  "cells": [
    {
      "cell_type": "markdown",
      "metadata": {
        "id": "view-in-github",
        "colab_type": "text"
      },
      "source": [
        "<a href=\"https://colab.research.google.com/github/JacopoKahl/cancer-python-lab/blob/master/Cancer.ipynb\" target=\"_parent\"><img src=\"https://colab.research.google.com/assets/colab-badge.svg\" alt=\"Open In Colab\"/></a>"
      ]
    },
    {
      "cell_type": "markdown",
      "metadata": {
        "id": "mhkdlVrRBACX",
        "colab_type": "text"
      },
      "source": [
        "# Cancer classification task"
      ]
    },
    {
      "cell_type": "markdown",
      "metadata": {
        "id": "MPypw4WABHrN",
        "colab_type": "text"
      },
      "source": [
        "Import libraries and functions for the script"
      ]
    },
    {
      "cell_type": "code",
      "metadata": {
        "id": "_k5QFE4WBK8A",
        "colab_type": "code",
        "outputId": "9a61f46b-7faf-42fd-e71a-974108f3e6ad",
        "colab": {
          "base_uri": "https://localhost:8080/",
          "height": 34
        }
      },
      "source": [
        "import pandas as pd #pd will be the shorthand for pandas\n",
        "\n",
        "from keras.models import Sequential #Import the sequential model for Neural Networks\n",
        "from keras.layers import Dense #Import the Dense type of layer\n",
        "\n",
        "import matplotlib.pyplot as plt #import mat plotting library for charts and pictures\n",
        "\n",
        "import random #import the random function\n",
        "random.seed(0) #Set seed to the random function so that every call to random will produce the same sequence of \"pseudo-random\" numbers\n",
        "\n",
        "print (random.randint(0,10)) #the function produces the same number each time the cell is running"
      ],
      "execution_count": 63,
      "outputs": [
        {
          "output_type": "stream",
          "text": [
            "6\n"
          ],
          "name": "stdout"
        }
      ]
    },
    {
      "cell_type": "code",
      "metadata": {
        "id": "Ig3_HboVDkGq",
        "colab_type": "code",
        "colab": {}
      },
      "source": [
        ""
      ],
      "execution_count": 0,
      "outputs": []
    },
    {
      "cell_type": "markdown",
      "metadata": {
        "id": "AM3KVPKEEFMX",
        "colab_type": "text"
      },
      "source": [
        "**Load Dataset**"
      ]
    },
    {
      "cell_type": "code",
      "metadata": {
        "id": "Wv8CXTXaEKPY",
        "colab_type": "code",
        "colab": {}
      },
      "source": [
        "X_train = pd.read_csv(\"xtrain.csv\", header=None) #Load input data (no labels are available for columns)\n",
        "Y_train = pd.read_csv(\"ytrain.csv\", header=None) #Load input data (no labels are available for rows)\n",
        "\n",
        "X_test = pd.read_csv(\"xtest.csv\", header=None) #Load input data (no labels are available for columns)\n",
        "Y_test = pd.read_csv(\"ytest.csv\", header=None) #Load input data (no labels are available for rows)"
      ],
      "execution_count": 0,
      "outputs": []
    },
    {
      "cell_type": "code",
      "metadata": {
        "id": "JCNxlj72GbIP",
        "colab_type": "code",
        "colab": {}
      },
      "source": [
        ""
      ],
      "execution_count": 0,
      "outputs": []
    },
    {
      "cell_type": "markdown",
      "metadata": {
        "id": "wt2eT9oJGbq-",
        "colab_type": "text"
      },
      "source": [
        "Let's inspect the data"
      ]
    },
    {
      "cell_type": "code",
      "metadata": {
        "id": "a9eO5qzyGd_m",
        "colab_type": "code",
        "outputId": "d5dd8e88-c695-44f6-a1a6-0e87c785d81c",
        "colab": {
          "base_uri": "https://localhost:8080/",
          "height": 34
        }
      },
      "source": [
        "X_train.head() #head() show the first 5 rows of the dataframe\n",
        "\n",
        "X_train.shape  #returns the shape (dimensions) of the dataframe (in this case the input data)"
      ],
      "execution_count": 65,
      "outputs": [
        {
          "output_type": "execute_result",
          "data": {
            "text/plain": [
              "(455, 30)"
            ]
          },
          "metadata": {
            "tags": []
          },
          "execution_count": 65
        }
      ]
    },
    {
      "cell_type": "code",
      "metadata": {
        "id": "dL7h7emdG6Ck",
        "colab_type": "code",
        "colab": {}
      },
      "source": [
        ""
      ],
      "execution_count": 0,
      "outputs": []
    },
    {
      "cell_type": "markdown",
      "metadata": {
        "id": "M-u4R7i9JBjT",
        "colab_type": "text"
      },
      "source": [
        "**Create NN classifier model**"
      ]
    },
    {
      "cell_type": "code",
      "metadata": {
        "id": "5BI5oaQnJHUZ",
        "colab_type": "code",
        "colab": {}
      },
      "source": [
        "classifier = Sequential() #our classifier is an instance of the Sequential class\n",
        "\n",
        "classifier.add(Dense(units = 16, activation= 'relu', input_dim= 30)) #add the first (left most) of the net\n",
        "classifier.add(Dense(units = 8, activation= 'relu'))  #layer with 8 neurons and relu activation\n",
        "classifier.add(Dense(units = 6, activation= 'relu'))  #layer with 6 neurons and relu activation\n",
        "classifier.add(Dense(units = 1, activation= 'sigmoid'))  #output layer with 1 neuron and sigmoid activation"
      ],
      "execution_count": 0,
      "outputs": []
    },
    {
      "cell_type": "code",
      "metadata": {
        "id": "RcUPwyrbLnQP",
        "colab_type": "code",
        "outputId": "f868fc10-e596-420e-da8d-6a6bdf0c92a5",
        "colab": {
          "base_uri": "https://localhost:8080/",
          "height": 289
        }
      },
      "source": [
        "classifier.summary()"
      ],
      "execution_count": 67,
      "outputs": [
        {
          "output_type": "stream",
          "text": [
            "Model: \"sequential_6\"\n",
            "_________________________________________________________________\n",
            "Layer (type)                 Output Shape              Param #   \n",
            "=================================================================\n",
            "dense_21 (Dense)             (None, 16)                496       \n",
            "_________________________________________________________________\n",
            "dense_22 (Dense)             (None, 8)                 136       \n",
            "_________________________________________________________________\n",
            "dense_23 (Dense)             (None, 6)                 54        \n",
            "_________________________________________________________________\n",
            "dense_24 (Dense)             (None, 1)                 7         \n",
            "=================================================================\n",
            "Total params: 693\n",
            "Trainable params: 693\n",
            "Non-trainable params: 0\n",
            "_________________________________________________________________\n"
          ],
          "name": "stdout"
        }
      ]
    },
    {
      "cell_type": "markdown",
      "metadata": {
        "id": "dSRk32ci31l2",
        "colab_type": "text"
      },
      "source": [
        "**Compilation of the model**\n",
        "\n",
        "After the network structure, the optimezer and the loss function need to be defined through the compile function."
      ]
    },
    {
      "cell_type": "code",
      "metadata": {
        "id": "8rqZJNeH2NCZ",
        "colab_type": "code",
        "colab": {}
      },
      "source": [
        "classifier.compile(optimizer='adam', loss='binary_crossentropy', metrics=['accuracy'])"
      ],
      "execution_count": 0,
      "outputs": []
    },
    {
      "cell_type": "markdown",
      "metadata": {
        "id": "Bte-OZY_4QtQ",
        "colab_type": "text"
      },
      "source": [
        "**Training phase**\n",
        "\n",
        "The model is trained on the dataset that is (i-th sample, i-th output label) couples.\n",
        "\n",
        "Training logs are saved into a History object\n",
        "\n",
        "**Note:**\n",
        "epochs: n times the entire datase is revisited\n",
        "batch_size: number of samples to be evaluated in the cost function in order to perform a step (example a steo of gradient descent)"
      ]
    },
    {
      "cell_type": "code",
      "metadata": {
        "id": "2GbNWOFj4lsa",
        "colab_type": "code",
        "outputId": "63479e50-a70f-4b1e-9768-3abf656ee149",
        "colab": {
          "base_uri": "https://localhost:8080/",
          "height": 1000
        }
      },
      "source": [
        " hist = classifier.fit(X_train, Y_train, batch_size=8, epochs=30)"
      ],
      "execution_count": 69,
      "outputs": [
        {
          "output_type": "stream",
          "text": [
            "Epoch 1/30\n",
            "455/455 [==============================] - 1s 1ms/step - loss: 0.5916 - acc: 0.6967\n",
            "Epoch 2/30\n",
            "455/455 [==============================] - 0s 476us/step - loss: 0.4959 - acc: 0.9121\n",
            "Epoch 3/30\n",
            "455/455 [==============================] - 0s 469us/step - loss: 0.4323 - acc: 0.9385\n",
            "Epoch 4/30\n",
            "455/455 [==============================] - 0s 443us/step - loss: 0.3766 - acc: 0.9670\n",
            "Epoch 5/30\n",
            "455/455 [==============================] - 0s 552us/step - loss: 0.3283 - acc: 0.9758\n",
            "Epoch 6/30\n",
            "455/455 [==============================] - 0s 491us/step - loss: 0.2840 - acc: 0.9802\n",
            "Epoch 7/30\n",
            "455/455 [==============================] - 0s 409us/step - loss: 0.2259 - acc: 0.9824\n",
            "Epoch 8/30\n",
            "455/455 [==============================] - 0s 440us/step - loss: 0.1342 - acc: 0.9758\n",
            "Epoch 9/30\n",
            "455/455 [==============================] - 0s 589us/step - loss: 0.0833 - acc: 0.9824\n",
            "Epoch 10/30\n",
            "455/455 [==============================] - 0s 509us/step - loss: 0.0664 - acc: 0.9868\n",
            "Epoch 11/30\n",
            "455/455 [==============================] - 0s 426us/step - loss: 0.0582 - acc: 0.9868\n",
            "Epoch 12/30\n",
            "455/455 [==============================] - 0s 415us/step - loss: 0.0535 - acc: 0.9868\n",
            "Epoch 13/30\n",
            "455/455 [==============================] - 0s 481us/step - loss: 0.0493 - acc: 0.9890\n",
            "Epoch 14/30\n",
            "455/455 [==============================] - 0s 501us/step - loss: 0.0456 - acc: 0.9912\n",
            "Epoch 15/30\n",
            "455/455 [==============================] - 0s 426us/step - loss: 0.0426 - acc: 0.9912\n",
            "Epoch 16/30\n",
            "455/455 [==============================] - 0s 459us/step - loss: 0.0402 - acc: 0.9912\n",
            "Epoch 17/30\n",
            "455/455 [==============================] - 0s 446us/step - loss: 0.0385 - acc: 0.9890\n",
            "Epoch 18/30\n",
            "455/455 [==============================] - 0s 433us/step - loss: 0.0355 - acc: 0.9912\n",
            "Epoch 19/30\n",
            "455/455 [==============================] - 0s 435us/step - loss: 0.0344 - acc: 0.9912\n",
            "Epoch 20/30\n",
            "455/455 [==============================] - 0s 433us/step - loss: 0.0330 - acc: 0.9912\n",
            "Epoch 21/30\n",
            "455/455 [==============================] - 0s 442us/step - loss: 0.0304 - acc: 0.9912\n",
            "Epoch 22/30\n",
            "455/455 [==============================] - 0s 439us/step - loss: 0.0293 - acc: 0.9934\n",
            "Epoch 23/30\n",
            "455/455 [==============================] - 0s 431us/step - loss: 0.0275 - acc: 0.9934\n",
            "Epoch 24/30\n",
            "455/455 [==============================] - 0s 412us/step - loss: 0.0280 - acc: 0.9956\n",
            "Epoch 25/30\n",
            "455/455 [==============================] - 0s 421us/step - loss: 0.0253 - acc: 0.9934\n",
            "Epoch 26/30\n",
            "455/455 [==============================] - 0s 430us/step - loss: 0.0254 - acc: 0.9956\n",
            "Epoch 27/30\n",
            "455/455 [==============================] - 0s 460us/step - loss: 0.0221 - acc: 0.9956\n",
            "Epoch 28/30\n",
            "455/455 [==============================] - 0s 403us/step - loss: 0.0202 - acc: 0.9956\n",
            "Epoch 29/30\n",
            "455/455 [==============================] - 0s 496us/step - loss: 0.0208 - acc: 0.9934\n",
            "Epoch 30/30\n",
            "455/455 [==============================] - 0s 456us/step - loss: 0.0174 - acc: 0.9956\n"
          ],
          "name": "stdout"
        }
      ]
    },
    {
      "cell_type": "markdown",
      "metadata": {
        "id": "-Es9S2HXI2kp",
        "colab_type": "text"
      },
      "source": [
        "Let's evaluate the network by computing predictions on the test set (X_test)"
      ]
    },
    {
      "cell_type": "code",
      "metadata": {
        "id": "MoIstI7NMnko",
        "colab_type": "code",
        "colab": {}
      },
      "source": [
        "Y_pred= classifier.predict(X_test)"
      ],
      "execution_count": 0,
      "outputs": []
    },
    {
      "cell_type": "code",
      "metadata": {
        "id": "NHfuc5uINE1w",
        "colab_type": "code",
        "colab": {}
      },
      "source": [
        "Y_pred = [1 if y>=0.5 else 0 for y in Y_pred]"
      ],
      "execution_count": 0,
      "outputs": []
    },
    {
      "cell_type": "code",
      "metadata": {
        "id": "NEvTxj9bs3gt",
        "colab_type": "code",
        "colab": {}
      },
      "source": [
        "#Y_pred"
      ],
      "execution_count": 0,
      "outputs": []
    },
    {
      "cell_type": "code",
      "metadata": {
        "id": "TFz3_fgls72B",
        "colab_type": "code",
        "outputId": "86a5a8de-58fb-42be-8383-55942abb1052",
        "colab": {
          "base_uri": "https://localhost:8080/",
          "height": 102
        }
      },
      "source": [
        "total=0\n",
        "correct=0\n",
        "wrong=0\n",
        "\n",
        "print ('Dimension of Test input set:', len(X_test))\n",
        "print ('Dimension of Test output set:', len(Y_pred))\n",
        "#len(Y_pred)\n",
        "\n",
        "#for i in range (10):\n",
        " # print(i)\n",
        "\n",
        "for i in range(len(Y_pred)):\n",
        "  total=total+1\n",
        "  if (Y_test.at[i,0] == Y_pred[i]):\n",
        "    correct=correct+1\n",
        "  else:\n",
        "    wrong=wrong+1\n",
        "\n",
        "print('Total: ', total)\n",
        "print('Correct: ', correct)\n",
        "print('Wrong: ', wrong)"
      ],
      "execution_count": 73,
      "outputs": [
        {
          "output_type": "stream",
          "text": [
            "Dimension of Test input set: 114\n",
            "Dimension of Test output set: 114\n",
            "Total:  114\n",
            "Correct:  110\n",
            "Wrong:  4\n"
          ],
          "name": "stdout"
        }
      ]
    },
    {
      "cell_type": "markdown",
      "metadata": {
        "id": "05d6mTrpVox1",
        "colab_type": "text"
      },
      "source": [
        "Plot training History\n",
        "**bold text**\n",
        "\n"
      ]
    },
    {
      "cell_type": "code",
      "metadata": {
        "id": "do3tM96aVlU4",
        "colab_type": "code",
        "colab": {
          "base_uri": "https://localhost:8080/",
          "height": 312
        },
        "outputId": "ede65cb5-1af5-4e17-c872-842078f8c2ba"
      },
      "source": [
        "plt.plot(hist.history['acc']) #plot accuracy data \n",
        "plt.title('Model accuracy')\n",
        "plt.ylabel('accuracy')\n",
        "plt.xlabel('epochs')"
      ],
      "execution_count": 74,
      "outputs": [
        {
          "output_type": "execute_result",
          "data": {
            "text/plain": [
              "Text(0.5, 0, 'epochs')"
            ]
          },
          "metadata": {
            "tags": []
          },
          "execution_count": 74
        },
        {
          "output_type": "display_data",
          "data": {
            "image/png": "[encoded data removed]",
            "text/plain": [
              "<Figure size 432x288 with 1 Axes>"
            ]
          },
          "metadata": {
            "tags": []
          }
        }
      ]
    }
  ]
}